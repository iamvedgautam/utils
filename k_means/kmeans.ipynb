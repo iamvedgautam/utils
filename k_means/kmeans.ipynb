{
 "cells": [
  {
   "cell_type": "markdown",
   "metadata": {},
   "source": [
    "<b>Question:</b><br>\n",
    "Given a set of two dimensional points P (e.g. [(1.1, 2.5), (3.4,1.9)...]; the size of set can be100s), write a function that calculates simple K-means. The expected returned value from the function is <br>\n",
    "1) a set of cluster id that each point belongs to, and <br>\n",
    "2) coordinates of centroids at the end of iteration."
   ]
  },
  {
   "cell_type": "markdown",
   "metadata": {},
   "source": [
    "# K-means clustering Algorithm\n",
    "K-means clustering is an iterative algorithm which tries to find k-clusers with cluster heads, where each data point belong only to 1 cluster head and Mean of the data points from the centroid should be minimum."
   ]
  },
  {
   "cell_type": "markdown",
   "metadata": {},
   "source": [
    "# Importing Libraries"
   ]
  },
  {
   "cell_type": "code",
   "execution_count": 1,
   "metadata": {},
   "outputs": [],
   "source": [
    "import numpy as np\n",
    "import matplotlib.pyplot as plt\n",
    "import random\n",
    "import math\n",
    "import pandas as pd\n",
    "import seaborn as sns"
   ]
  },
  {
   "cell_type": "markdown",
   "metadata": {},
   "source": [
    "# ------- Within Time limit -------"
   ]
  },
  {
   "cell_type": "markdown",
   "metadata": {},
   "source": [
    "# k-means function"
   ]
  },
  {
   "cell_type": "code",
   "execution_count": 13,
   "metadata": {},
   "outputs": [],
   "source": [
    "def distance_tuples(x,y):\n",
    "    \"\"\"\n",
    "    This function returns distance between two coordinates\n",
    "    x,y: n dimentional Tuples\n",
    "    \"\"\"\n",
    "    sum_sq = 0\n",
    "    for i in range(len(x)):\n",
    "        sum_sq += (x[i]-y[i])**2\n",
    "    return math.sqrt(sum_sq)\n",
    "\n",
    "\n",
    "def find_closest(x, centroids):\n",
    "    \"\"\"\n",
    "    This function returns index of the closest centroid \n",
    "    x: Tuple containing coordinates of a point\n",
    "    centroids: List of tuples\n",
    "    \"\"\"\n",
    "    for i in range(len(centroids)):\n",
    "        if i == 0:\n",
    "            min_dist = distance_tuples(x,centroids[i])\n",
    "            cent = i\n",
    "        else:\n",
    "            dist = distance_tuples(x,centroids[i])\n",
    "            if dist<min_dist:\n",
    "                cent = i\n",
    "                min_dist = dist\n",
    "    return cent\n",
    "\n",
    "\n",
    "def find_center(data):\n",
    "    \"\"\"\n",
    "    This function returns centroid for a list of data points\n",
    "    data: list of tuples\n",
    "    \"\"\"\n",
    "    x = [i[0] for i in data]\n",
    "    y = [i[1] for i in data]\n",
    "    return (x,y)\n",
    "\n",
    "\n",
    "def centroid_compare(centroids, new_centroids, limit=0.1):\n",
    "    \"\"\"\n",
    "    This function checks the convergence of the centroid\n",
    "    centroids: Old Centroid\n",
    "    new_centroids: New centroid\n",
    "    \"\"\"\n",
    "    for i in range(len(centroids)):\n",
    "        dis = distance_tuples(centroids[i], new_centroids[i])\n",
    "        if dis==dis:\n",
    "            dis = distance_tuples(centroids[i], new_centroids[i])\n",
    "            if dis>limit:\n",
    "                return 0\n",
    "    return 1\n",
    "\n",
    "\n",
    "def k_means_function(data, k, iterations, plot=True):\n",
    "    \"\"\"\n",
    "    seperates data into different clusters\n",
    "    data: list of tuples\n",
    "    k: number of clusters\n",
    "    iterations: iterations for centroid initializations\n",
    "    plot: True if you want to see the plot \n",
    "    \"\"\"\n",
    "    print(f\"{k} means clustering\")\n",
    "    \n",
    "    # Convert datapoints into a dataframe\n",
    "    df = pd.DataFrame(data, columns =['x', 'y'])\n",
    "    \n",
    "    df['cluster_final'] = None\n",
    "    for ite in range(iterations):\n",
    "        \n",
    "        # Get a sample of random centroids from data\n",
    "        centroids = random.sample(data, k=k)\n",
    "        \n",
    "        while(True):\n",
    "            # create clusters based on centroids\n",
    "            df['new_cluster'] = df.apply(lambda row: find_closest((row['x'], row['y']), centroids), axis=1)\n",
    "            \n",
    "            # New centroids based on cluster\n",
    "            new_centroids = []\n",
    "            for i in range(len(centroids)):\n",
    "                x_mean = df[df['new_cluster']==i].x.mean()\n",
    "                y_mean = df[df['new_cluster']==i].y.mean()\n",
    "                new_centroids.append((x_mean, y_mean))\n",
    "            df['new_dist'] = df.apply(lambda row: distance_tuples((row['x'], row['y']),\n",
    "                                                                  centroids[int(row['new_cluster'])]), axis=1)\n",
    "            if centroid_compare(centroids, new_centroids):\n",
    "                centroids = new_centroids\n",
    "                df['cluster'] = df['new_cluster']\n",
    "                df['dist'] = df['new_dist']\n",
    "                break  \n",
    "            centroids = new_centroids\n",
    "            df['cluster'] = df['new_cluster']\n",
    "            df['dist'] = df['new_dist']\n",
    "\n",
    "        dis_sum = df.groupby(['cluster']).sum()[\"dist\"].mean()\n",
    "        if ite==0:\n",
    "            dis_sum_final = dis_sum\n",
    "            df['cluster_final'] = df['cluster']\n",
    "            df['dist_final'] = df['dist']\n",
    "        elif dis_sum_final>dis_sum:\n",
    "            dis_sum_final = dis_sum\n",
    "            df['cluster_final'] = df['cluster']\n",
    "            df['dist_final'] = df['dist']\n",
    "#     print(dis_sum_final)\n",
    "    if plot and len(data[0])==2:\n",
    "        fig, ax = plt.subplots(figsize=(10, 5))\n",
    "        sns.scatterplot(data=df, x=\"x\", y=\"y\", hue=\"cluster_final\", s=50, palette = \"pastel\", alpha=1)\n",
    "        plt.title(f'{k}-means culstering',fontsize=15)\n",
    "        plt.xlabel('x-coordinate',fontsize=15)\n",
    "        plt.ylabel('y-coordinate',fontsize=15)\n",
    "        plt.show()\n",
    "    return df"
   ]
  },
  {
   "cell_type": "code",
   "execution_count": 3,
   "metadata": {},
   "outputs": [],
   "source": [
    "# Sample Data set\n",
    "data = [(1, 5), (12, 5), (10, 1), (4, 8), (10, 6), (12, 7), (13, 4), (11, 4), (21, 12), (8, 4), (3, 2),\n",
    "       (20, 7), (23, 8), (9, 6), (11, 6), (1, 5), (3, 8),]"
   ]
  },
  {
   "cell_type": "code",
   "execution_count": 12,
   "metadata": {},
   "outputs": [
    {
     "name": "stdout",
     "output_type": "stream",
     "text": [
      "3 means clustering\n"
     ]
    },
    {
     "data": {
      "image/png": "[encoded data removed]",
      "text/plain": [
       "<Figure size 720x360 with 1 Axes>"
      ]
     },
     "metadata": {
      "needs_background": "light"
     },
     "output_type": "display_data"
    }
   ],
   "source": [
    "df_output = k_means_function(data, 3, 10, plot=True)"
   ]
  },
  {
   "cell_type": "markdown",
   "metadata": {},
   "source": [
    "# Finding optimal k: Elbow Method\n",
    "We will be plotting results for various different values of k and find out the optimal value result visually "
   ]
  },
  {
   "cell_type": "code",
   "execution_count": 7,
   "metadata": {},
   "outputs": [],
   "source": [
    "def elbow_method(data, iterations):\n",
    "    sum_val = []\n",
    "    for k in range(1,10):\n",
    "        df = k_means_function(data, k, iterations, plot=False)\n",
    "        sum_val.append(df.groupby(['cluster_final']).sum()[\"dist_final\"].mean())\n",
    "    fig, ax = plt.subplots(figsize=(10, 4))\n",
    "    plt.plot(list(range(1,10)), sum_val, 'bx-')\n",
    "    plt.xlabel('Values of K',fontsize=15)\n",
    "    plt.ylabel('Distortion',fontsize=15)\n",
    "    plt.title('The Elbow Method',fontsize=15)\n",
    "    print(\"Elbow method\")"
   ]
  },
  {
   "cell_type": "code",
   "execution_count": 8,
   "metadata": {},
   "outputs": [
    {
     "name": "stdout",
     "output_type": "stream",
     "text": [
      "1 means clustering\n",
      "2 means clustering\n",
      "3 means clustering\n",
      "4 means clustering\n",
      "5 means clustering\n",
      "6 means clustering\n",
      "7 means clustering\n",
      "8 means clustering\n",
      "9 means clustering\n",
      "Elbow method\n"
     ]
    },
    {
     "data": {
      "image/png": "[encoded data removed]",
      "text/plain": [
       "<Figure size 720x288 with 1 Axes>"
      ]
     },
     "metadata": {
      "needs_background": "light"
     },
     "output_type": "display_data"
    }
   ],
   "source": [
    "elbow_method(data, 100)"
   ]
  },
  {
   "cell_type": "code",
   "execution_count": null,
   "metadata": {},
   "outputs": [],
   "source": []
  }
 ],
 "metadata": {
  "kernelspec": {
   "display_name": "Python 3",
   "language": "python",
   "name": "python3"
  },
  "language_info": {
   "codemirror_mode": {
    "name": "ipython",
    "version": 3
   },
   "file_extension": ".py",
   "mimetype": "text/x-python",
   "name": "python",
   "nbconvert_exporter": "python",
   "pygments_lexer": "ipython3",
   "version": "3.8.5"
  }
 },
 "nbformat": 4,
 "nbformat_minor": 4
}
